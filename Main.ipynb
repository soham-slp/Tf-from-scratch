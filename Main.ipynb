{
  "nbformat": 4,
  "nbformat_minor": 0,
  "metadata": {
    "colab": {
      "provenance": [],
      "authorship_tag": "ABX9TyMtjT6nwrFp6RuCisGdM8CU",
      "include_colab_link": true
    },
    "kernelspec": {
      "name": "python3",
      "display_name": "Python 3"
    },
    "language_info": {
      "name": "python"
    },
    "accelerator": "TPU"
  },
  "cells": [
    {
      "cell_type": "markdown",
      "metadata": {
        "id": "view-in-github",
        "colab_type": "text"
      },
      "source": [
        "<a href=\"https://colab.research.google.com/github/soham-slp/Tf-from-scratch/blob/main/Main.ipynb\" target=\"_parent\"><img src=\"https://colab.research.google.com/assets/colab-badge.svg\" alt=\"Open In Colab\"/></a>"
      ]
    },
    {
      "cell_type": "markdown",
      "source": [
        "# Using Tensorflow variables for linear regression"
      ],
      "metadata": {
        "id": "JPMR9zgHptEn"
      }
    },
    {
      "cell_type": "code",
      "source": [
        "import numpy as np\n",
        "from plotly import express as px\n",
        "from matplotlib import pyplot as plt\n",
        "import tensorflow as tf"
      ],
      "metadata": {
        "id": "0faMGJ6kp1KX"
      },
      "execution_count": 1,
      "outputs": []
    },
    {
      "cell_type": "code",
      "source": [
        "from plotly import graph_objects as go"
      ],
      "metadata": {
        "id": "dJZXbnJsvv-7"
      },
      "execution_count": 11,
      "outputs": []
    },
    {
      "cell_type": "code",
      "source": [
        "resolver = tf.distribute.cluster_resolver.TPUClusterResolver(tpu='')\n",
        "tf.config.experimental_connect_to_cluster(resolver)\n",
        "# This is the TPU initialization code that has to be at the beginning.\n",
        "tf.tpu.experimental.initialize_tpu_system(resolver)\n",
        "print(\"All devices: \", tf.config.list_logical_devices('TPU'))"
      ],
      "metadata": {
        "colab": {
          "base_uri": "https://localhost:8080/"
        },
        "id": "To2O7WBfqNny",
        "outputId": "7c441d6d-dfc1-42dd-dbf1-b55400d1ef98"
      },
      "execution_count": 2,
      "outputs": [
        {
          "output_type": "stream",
          "name": "stdout",
          "text": [
            "All devices:  [LogicalDevice(name='/job:worker/replica:0/task:0/device:TPU:0', device_type='TPU'), LogicalDevice(name='/job:worker/replica:0/task:0/device:TPU:1', device_type='TPU'), LogicalDevice(name='/job:worker/replica:0/task:0/device:TPU:2', device_type='TPU'), LogicalDevice(name='/job:worker/replica:0/task:0/device:TPU:3', device_type='TPU'), LogicalDevice(name='/job:worker/replica:0/task:0/device:TPU:4', device_type='TPU'), LogicalDevice(name='/job:worker/replica:0/task:0/device:TPU:5', device_type='TPU'), LogicalDevice(name='/job:worker/replica:0/task:0/device:TPU:6', device_type='TPU'), LogicalDevice(name='/job:worker/replica:0/task:0/device:TPU:7', device_type='TPU')]\n"
          ]
        }
      ]
    },
    {
      "cell_type": "code",
      "source": [
        "xs = np.arange(-100.0, 100.0, 1.0)\n",
        "ys = 2 * xs - 1 + np.random.normal(size = xs.shape) * 0.1"
      ],
      "metadata": {
        "id": "GK1BnogpqPfT"
      },
      "execution_count": 110,
      "outputs": []
    },
    {
      "cell_type": "code",
      "source": [
        "fig = px.line(x = xs, y = ys, title = 'y = 2x - 1', markers = True)\n",
        "fig.update_layout({\n",
        "    'showlegend': True,\n",
        "    'xaxis_title': 'X',\n",
        "    'yaxis_title': 'Y',\n",
        "    'title': {\n",
        "        'font': {\n",
        "            'size': 50\n",
        "        }\n",
        "    },\n",
        "    'font': {\n",
        "        'family': 'Arial'\n",
        "    }\n",
        "})\n",
        "fig.show()"
      ],
      "metadata": {
        "colab": {
          "base_uri": "https://localhost:8080/",
          "height": 542
        },
        "id": "Ul4LAZegsHKr",
        "outputId": "bd18d4f5-ccbe-4331-ee9d-8e0d5fe2c719"
      },
      "execution_count": 111,
      "outputs": [
        {
          "output_type": "display_data",
          "data": {
            "text/html": [
              "<html>\n",
              "<head><meta charset=\"utf-8\" /></head>\n",
              "<body>\n",
              "    <div>            <script src=\"https://cdnjs.cloudflare.com/ajax/libs/mathjax/2.7.5/MathJax.js?config=TeX-AMS-MML_SVG\"></script><script type=\"text/javascript\">if (window.MathJax && window.MathJax.Hub && window.MathJax.Hub.Config) {window.MathJax.Hub.Config({SVG: {font: \"STIX-Web\"}});}</script>                <script type=\"text/javascript\">window.PlotlyConfig = {MathJaxConfig: 'local'};</script>\n",
              "        <script charset=\"utf-8\" src=\"https://cdn.plot.ly/plotly-2.24.1.min.js\"></script>                <div id=\"2097558a-8892-4510-bcb4-913242d668ba\" class=\"plotly-graph-div\" style=\"height:525px; width:100%;\"></div>            <script type=\"text/javascript\">                                    window.PLOTLYENV=window.PLOTLYENV || {};                                    if (document.getElementById(\"2097558a-8892-4510-bcb4-913242d668ba\")) {                    Plotly.newPlot(                        \"2097558a-8892-4510-bcb4-913242d668ba\",                        [{\"hovertemplate\":\"x=%{x}\\u003cbr\\u003ey=%{y}\\u003cextra\\u003e\\u003c\\u002fextra\\u003e\",\"legendgroup\":\"\",\"line\":{\"color\":\"#636efa\",\"dash\":\"solid\"},\"marker\":{\"symbol\":\"circle\"},\"mode\":\"markers+lines\",\"name\":\"\",\"orientation\":\"v\",\"showlegend\":false,\"x\":[-100.0,-99.0,-98.0,-97.0,-96.0,-95.0,-94.0,-93.0,-92.0,-91.0,-90.0,-89.0,-88.0,-87.0,-86.0,-85.0,-84.0,-83.0,-82.0,-81.0,-80.0,-79.0,-78.0,-77.0,-76.0,-75.0,-74.0,-73.0,-72.0,-71.0,-70.0,-69.0,-68.0,-67.0,-66.0,-65.0,-64.0,-63.0,-62.0,-61.0,-60.0,-59.0,-58.0,-57.0,-56.0,-55.0,-54.0,-53.0,-52.0,-51.0,-50.0,-49.0,-48.0,-47.0,-46.0,-45.0,-44.0,-43.0,-42.0,-41.0,-40.0,-39.0,-38.0,-37.0,-36.0,-35.0,-34.0,-33.0,-32.0,-31.0,-30.0,-29.0,-28.0,-27.0,-26.0,-25.0,-24.0,-23.0,-22.0,-21.0,-20.0,-19.0,-18.0,-17.0,-16.0,-15.0,-14.0,-13.0,-12.0,-11.0,-10.0,-9.0,-8.0,-7.0,-6.0,-5.0,-4.0,-3.0,-2.0,-1.0,0.0,1.0,2.0,3.0,4.0,5.0,6.0,7.0,8.0,9.0,10.0,11.0,12.0,13.0,14.0,15.0,16.0,17.0,18.0,19.0,20.0,21.0,22.0,23.0,24.0,25.0,26.0,27.0,28.0,29.0,30.0,31.0,32.0,33.0,34.0,35.0,36.0,37.0,38.0,39.0,40.0,41.0,42.0,43.0,44.0,45.0,46.0,47.0,48.0,49.0,50.0,51.0,52.0,53.0,54.0,55.0,56.0,57.0,58.0,59.0,60.0,61.0,62.0,63.0,64.0,65.0,66.0,67.0,68.0,69.0,70.0,71.0,72.0,73.0,74.0,75.0,76.0,77.0,78.0,79.0,80.0,81.0,82.0,83.0,84.0,85.0,86.0,87.0,88.0,89.0,90.0,91.0,92.0,93.0,94.0,95.0,96.0,97.0,98.0,99.0],\"xaxis\":\"x\",\"y\":[-200.7966385945226,-199.05268597075607,-196.87141459660677,-194.9098521792305,-192.85480231646602,-191.11472406241816,-189.04130432512565,-187.07510923943744,-185.05342485606985,-182.9102150989008,-180.94825565308957,-178.9118814609597,-177.0837863978651,-175.0530407877623,-172.86037615203367,-170.996037597038,-169.06962305750716,-167.0708551461047,-164.9523189468573,-162.8710349790349,-160.90570155410114,-159.04269858046496,-157.12418761948337,-154.90833384972564,-153.12277406684439,-151.04001399095765,-148.89943657972825,-146.99075572483383,-144.92819800922064,-143.02830104528823,-140.89002500369958,-139.06171522854206,-136.96108623266218,-134.97214340054745,-132.82222954359932,-130.77607166221003,-128.9855376995197,-126.90457800772339,-125.01944272374699,-123.04578678030619,-121.09131772168448,-118.92374113288807,-116.83662360891594,-115.06194685850893,-113.10052236664419,-110.97254662752812,-108.93113763241041,-107.173593914695,-105.05832293258587,-103.07980936377227,-100.8082047010056,-98.87917436172144,-96.94170837045617,-95.12336022620866,-93.07992655899184,-90.99980212785165,-89.02363994485617,-86.86110502581056,-85.03861131564997,-83.03570574236451,-80.9419330724499,-78.96744249983162,-76.99027506251143,-75.09451803318548,-73.17698334315595,-70.97973911541955,-69.18080663437162,-67.02867452545378,-64.92481063928449,-62.98340574383352,-61.042551176265114,-58.90451318527116,-57.09309036179711,-55.09209570795446,-52.9345939174077,-51.02813856308906,-48.82538484451362,-46.898965110819546,-45.15565466834913,-43.1561534287027,-40.989629574665244,-39.03820304465816,-37.02595364585118,-34.87502040032747,-32.9332813239398,-30.90071995198992,-28.869195403852643,-26.963641258008078,-24.97371938124569,-23.132599128052256,-20.97267748090586,-18.876206874704902,-16.90099014781318,-15.059138048807439,-12.98446770429646,-10.983331367424068,-8.870070533359737,-6.927880509955654,-4.895917550494228,-3.0485889751669215,-1.0312249204488717,1.0053133832345622,2.902431134251212,4.941042560738135,6.999948747163501,8.951141802604901,10.871108062081147,12.920453931437166,15.00309514022,16.84953824389295,18.936936925019985,21.064793104063366,23.116261199764683,24.9966246180736,27.09321745748084,29.106195448633,31.058066395982824,32.97585772160976,35.0722798173691,36.92013887260795,39.166182583881785,41.07790026443471,42.955371321900735,45.07747894423881,47.04174346727044,48.9021236321884,50.90001978850179,52.98603654525391,55.026876243375895,57.07641768866332,59.00854092711604,61.16879643649282,62.80589830843921,64.91185132030644,66.89900926333134,68.99573779418496,70.95842593944,72.9705931068389,75.174797645484,77.0907233364265,78.97646437361448,81.11766628741736,83.06215317991939,84.95330953883497,86.74367714243907,88.9843006401527,90.95692084217119,93.07346557237985,94.97756268405506,97.06959157172273,99.00384537146822,101.25087108534986,102.8131362402355,105.00794546927723,107.10589438832376,108.9757602633518,111.01807707886717,113.03957294677724,114.96112521540185,116.91796344630255,118.98343541101225,121.1180933231267,122.99240352531193,125.03013420811415,126.91846442352318,128.79444552263055,130.94967682682733,133.12125779041253,135.0913279080954,136.86415050039707,139.02328743850813,140.88116506138948,142.85718913095056,145.1083047234282,147.1799460050615,149.02627880013557,151.01495309590487,153.03747673229475,154.9053768046922,157.08251676010764,159.00176570253396,160.994082422817,162.7484284501297,165.1755762284988,167.05669291973,169.01189950958008,171.01460794656387,172.97352035222107,174.93870037958237,176.8910003499451,179.00205390772956,180.8970526518887,182.88287623992122,185.09190935932634,186.8258304693094,189.07539165312048,190.84523465504506,192.94455172865958,194.99222084504504,197.05266474855983],\"yaxis\":\"y\",\"type\":\"scatter\"}],                        {\"template\":{\"data\":{\"histogram2dcontour\":[{\"type\":\"histogram2dcontour\",\"colorbar\":{\"outlinewidth\":0,\"ticks\":\"\"},\"colorscale\":[[0.0,\"#0d0887\"],[0.1111111111111111,\"#46039f\"],[0.2222222222222222,\"#7201a8\"],[0.3333333333333333,\"#9c179e\"],[0.4444444444444444,\"#bd3786\"],[0.5555555555555556,\"#d8576b\"],[0.6666666666666666,\"#ed7953\"],[0.7777777777777778,\"#fb9f3a\"],[0.8888888888888888,\"#fdca26\"],[1.0,\"#f0f921\"]]}],\"choropleth\":[{\"type\":\"choropleth\",\"colorbar\":{\"outlinewidth\":0,\"ticks\":\"\"}}],\"histogram2d\":[{\"type\":\"histogram2d\",\"colorbar\":{\"outlinewidth\":0,\"ticks\":\"\"},\"colorscale\":[[0.0,\"#0d0887\"],[0.1111111111111111,\"#46039f\"],[0.2222222222222222,\"#7201a8\"],[0.3333333333333333,\"#9c179e\"],[0.4444444444444444,\"#bd3786\"],[0.5555555555555556,\"#d8576b\"],[0.6666666666666666,\"#ed7953\"],[0.7777777777777778,\"#fb9f3a\"],[0.8888888888888888,\"#fdca26\"],[1.0,\"#f0f921\"]]}],\"heatmap\":[{\"type\":\"heatmap\",\"colorbar\":{\"outlinewidth\":0,\"ticks\":\"\"},\"colorscale\":[[0.0,\"#0d0887\"],[0.1111111111111111,\"#46039f\"],[0.2222222222222222,\"#7201a8\"],[0.3333333333333333,\"#9c179e\"],[0.4444444444444444,\"#bd3786\"],[0.5555555555555556,\"#d8576b\"],[0.6666666666666666,\"#ed7953\"],[0.7777777777777778,\"#fb9f3a\"],[0.8888888888888888,\"#fdca26\"],[1.0,\"#f0f921\"]]}],\"heatmapgl\":[{\"type\":\"heatmapgl\",\"colorbar\":{\"outlinewidth\":0,\"ticks\":\"\"},\"colorscale\":[[0.0,\"#0d0887\"],[0.1111111111111111,\"#46039f\"],[0.2222222222222222,\"#7201a8\"],[0.3333333333333333,\"#9c179e\"],[0.4444444444444444,\"#bd3786\"],[0.5555555555555556,\"#d8576b\"],[0.6666666666666666,\"#ed7953\"],[0.7777777777777778,\"#fb9f3a\"],[0.8888888888888888,\"#fdca26\"],[1.0,\"#f0f921\"]]}],\"contourcarpet\":[{\"type\":\"contourcarpet\",\"colorbar\":{\"outlinewidth\":0,\"ticks\":\"\"}}],\"contour\":[{\"type\":\"contour\",\"colorbar\":{\"outlinewidth\":0,\"ticks\":\"\"},\"colorscale\":[[0.0,\"#0d0887\"],[0.1111111111111111,\"#46039f\"],[0.2222222222222222,\"#7201a8\"],[0.3333333333333333,\"#9c179e\"],[0.4444444444444444,\"#bd3786\"],[0.5555555555555556,\"#d8576b\"],[0.6666666666666666,\"#ed7953\"],[0.7777777777777778,\"#fb9f3a\"],[0.8888888888888888,\"#fdca26\"],[1.0,\"#f0f921\"]]}],\"surface\":[{\"type\":\"surface\",\"colorbar\":{\"outlinewidth\":0,\"ticks\":\"\"},\"colorscale\":[[0.0,\"#0d0887\"],[0.1111111111111111,\"#46039f\"],[0.2222222222222222,\"#7201a8\"],[0.3333333333333333,\"#9c179e\"],[0.4444444444444444,\"#bd3786\"],[0.5555555555555556,\"#d8576b\"],[0.6666666666666666,\"#ed7953\"],[0.7777777777777778,\"#fb9f3a\"],[0.8888888888888888,\"#fdca26\"],[1.0,\"#f0f921\"]]}],\"mesh3d\":[{\"type\":\"mesh3d\",\"colorbar\":{\"outlinewidth\":0,\"ticks\":\"\"}}],\"scatter\":[{\"fillpattern\":{\"fillmode\":\"overlay\",\"size\":10,\"solidity\":0.2},\"type\":\"scatter\"}],\"parcoords\":[{\"type\":\"parcoords\",\"line\":{\"colorbar\":{\"outlinewidth\":0,\"ticks\":\"\"}}}],\"scatterpolargl\":[{\"type\":\"scatterpolargl\",\"marker\":{\"colorbar\":{\"outlinewidth\":0,\"ticks\":\"\"}}}],\"bar\":[{\"error_x\":{\"color\":\"#2a3f5f\"},\"error_y\":{\"color\":\"#2a3f5f\"},\"marker\":{\"line\":{\"color\":\"#E5ECF6\",\"width\":0.5},\"pattern\":{\"fillmode\":\"overlay\",\"size\":10,\"solidity\":0.2}},\"type\":\"bar\"}],\"scattergeo\":[{\"type\":\"scattergeo\",\"marker\":{\"colorbar\":{\"outlinewidth\":0,\"ticks\":\"\"}}}],\"scatterpolar\":[{\"type\":\"scatterpolar\",\"marker\":{\"colorbar\":{\"outlinewidth\":0,\"ticks\":\"\"}}}],\"histogram\":[{\"marker\":{\"pattern\":{\"fillmode\":\"overlay\",\"size\":10,\"solidity\":0.2}},\"type\":\"histogram\"}],\"scattergl\":[{\"type\":\"scattergl\",\"marker\":{\"colorbar\":{\"outlinewidth\":0,\"ticks\":\"\"}}}],\"scatter3d\":[{\"type\":\"scatter3d\",\"line\":{\"colorbar\":{\"outlinewidth\":0,\"ticks\":\"\"}},\"marker\":{\"colorbar\":{\"outlinewidth\":0,\"ticks\":\"\"}}}],\"scattermapbox\":[{\"type\":\"scattermapbox\",\"marker\":{\"colorbar\":{\"outlinewidth\":0,\"ticks\":\"\"}}}],\"scatterternary\":[{\"type\":\"scatterternary\",\"marker\":{\"colorbar\":{\"outlinewidth\":0,\"ticks\":\"\"}}}],\"scattercarpet\":[{\"type\":\"scattercarpet\",\"marker\":{\"colorbar\":{\"outlinewidth\":0,\"ticks\":\"\"}}}],\"carpet\":[{\"aaxis\":{\"endlinecolor\":\"#2a3f5f\",\"gridcolor\":\"white\",\"linecolor\":\"white\",\"minorgridcolor\":\"white\",\"startlinecolor\":\"#2a3f5f\"},\"baxis\":{\"endlinecolor\":\"#2a3f5f\",\"gridcolor\":\"white\",\"linecolor\":\"white\",\"minorgridcolor\":\"white\",\"startlinecolor\":\"#2a3f5f\"},\"type\":\"carpet\"}],\"table\":[{\"cells\":{\"fill\":{\"color\":\"#EBF0F8\"},\"line\":{\"color\":\"white\"}},\"header\":{\"fill\":{\"color\":\"#C8D4E3\"},\"line\":{\"color\":\"white\"}},\"type\":\"table\"}],\"barpolar\":[{\"marker\":{\"line\":{\"color\":\"#E5ECF6\",\"width\":0.5},\"pattern\":{\"fillmode\":\"overlay\",\"size\":10,\"solidity\":0.2}},\"type\":\"barpolar\"}],\"pie\":[{\"automargin\":true,\"type\":\"pie\"}]},\"layout\":{\"autotypenumbers\":\"strict\",\"colorway\":[\"#636efa\",\"#EF553B\",\"#00cc96\",\"#ab63fa\",\"#FFA15A\",\"#19d3f3\",\"#FF6692\",\"#B6E880\",\"#FF97FF\",\"#FECB52\"],\"font\":{\"color\":\"#2a3f5f\"},\"hovermode\":\"closest\",\"hoverlabel\":{\"align\":\"left\"},\"paper_bgcolor\":\"white\",\"plot_bgcolor\":\"#E5ECF6\",\"polar\":{\"bgcolor\":\"#E5ECF6\",\"angularaxis\":{\"gridcolor\":\"white\",\"linecolor\":\"white\",\"ticks\":\"\"},\"radialaxis\":{\"gridcolor\":\"white\",\"linecolor\":\"white\",\"ticks\":\"\"}},\"ternary\":{\"bgcolor\":\"#E5ECF6\",\"aaxis\":{\"gridcolor\":\"white\",\"linecolor\":\"white\",\"ticks\":\"\"},\"baxis\":{\"gridcolor\":\"white\",\"linecolor\":\"white\",\"ticks\":\"\"},\"caxis\":{\"gridcolor\":\"white\",\"linecolor\":\"white\",\"ticks\":\"\"}},\"coloraxis\":{\"colorbar\":{\"outlinewidth\":0,\"ticks\":\"\"}},\"colorscale\":{\"sequential\":[[0.0,\"#0d0887\"],[0.1111111111111111,\"#46039f\"],[0.2222222222222222,\"#7201a8\"],[0.3333333333333333,\"#9c179e\"],[0.4444444444444444,\"#bd3786\"],[0.5555555555555556,\"#d8576b\"],[0.6666666666666666,\"#ed7953\"],[0.7777777777777778,\"#fb9f3a\"],[0.8888888888888888,\"#fdca26\"],[1.0,\"#f0f921\"]],\"sequentialminus\":[[0.0,\"#0d0887\"],[0.1111111111111111,\"#46039f\"],[0.2222222222222222,\"#7201a8\"],[0.3333333333333333,\"#9c179e\"],[0.4444444444444444,\"#bd3786\"],[0.5555555555555556,\"#d8576b\"],[0.6666666666666666,\"#ed7953\"],[0.7777777777777778,\"#fb9f3a\"],[0.8888888888888888,\"#fdca26\"],[1.0,\"#f0f921\"]],\"diverging\":[[0,\"#8e0152\"],[0.1,\"#c51b7d\"],[0.2,\"#de77ae\"],[0.3,\"#f1b6da\"],[0.4,\"#fde0ef\"],[0.5,\"#f7f7f7\"],[0.6,\"#e6f5d0\"],[0.7,\"#b8e186\"],[0.8,\"#7fbc41\"],[0.9,\"#4d9221\"],[1,\"#276419\"]]},\"xaxis\":{\"gridcolor\":\"white\",\"linecolor\":\"white\",\"ticks\":\"\",\"title\":{\"standoff\":15},\"zerolinecolor\":\"white\",\"automargin\":true,\"zerolinewidth\":2},\"yaxis\":{\"gridcolor\":\"white\",\"linecolor\":\"white\",\"ticks\":\"\",\"title\":{\"standoff\":15},\"zerolinecolor\":\"white\",\"automargin\":true,\"zerolinewidth\":2},\"scene\":{\"xaxis\":{\"backgroundcolor\":\"#E5ECF6\",\"gridcolor\":\"white\",\"linecolor\":\"white\",\"showbackground\":true,\"ticks\":\"\",\"zerolinecolor\":\"white\",\"gridwidth\":2},\"yaxis\":{\"backgroundcolor\":\"#E5ECF6\",\"gridcolor\":\"white\",\"linecolor\":\"white\",\"showbackground\":true,\"ticks\":\"\",\"zerolinecolor\":\"white\",\"gridwidth\":2},\"zaxis\":{\"backgroundcolor\":\"#E5ECF6\",\"gridcolor\":\"white\",\"linecolor\":\"white\",\"showbackground\":true,\"ticks\":\"\",\"zerolinecolor\":\"white\",\"gridwidth\":2}},\"shapedefaults\":{\"line\":{\"color\":\"#2a3f5f\"}},\"annotationdefaults\":{\"arrowcolor\":\"#2a3f5f\",\"arrowhead\":0,\"arrowwidth\":1},\"geo\":{\"bgcolor\":\"white\",\"landcolor\":\"#E5ECF6\",\"subunitcolor\":\"white\",\"showland\":true,\"showlakes\":true,\"lakecolor\":\"white\"},\"title\":{\"x\":0.05},\"mapbox\":{\"style\":\"light\"}}},\"xaxis\":{\"anchor\":\"y\",\"domain\":[0.0,1.0],\"title\":{\"text\":\"X\"}},\"yaxis\":{\"anchor\":\"x\",\"domain\":[0.0,1.0],\"title\":{\"text\":\"Y\"}},\"legend\":{\"tracegroupgap\":0},\"title\":{\"text\":\"y = 2x - 1\",\"font\":{\"size\":50}},\"font\":{\"family\":\"Arial\"},\"showlegend\":true},                        {\"responsive\": true}                    ).then(function(){\n",
              "                            \n",
              "var gd = document.getElementById('2097558a-8892-4510-bcb4-913242d668ba');\n",
              "var x = new MutationObserver(function (mutations, observer) {{\n",
              "        var display = window.getComputedStyle(gd).display;\n",
              "        if (!display || display === 'none') {{\n",
              "            console.log([gd, 'removed!']);\n",
              "            Plotly.purge(gd);\n",
              "            observer.disconnect();\n",
              "        }}\n",
              "}});\n",
              "\n",
              "// Listen for the removal of the full notebook cells\n",
              "var notebookContainer = gd.closest('#notebook-container');\n",
              "if (notebookContainer) {{\n",
              "    x.observe(notebookContainer, {childList: true});\n",
              "}}\n",
              "\n",
              "// Listen for the clearing of the current output cell\n",
              "var outputEl = gd.closest('.output');\n",
              "if (outputEl) {{\n",
              "    x.observe(outputEl, {childList: true});\n",
              "}}\n",
              "\n",
              "                        })                };                            </script>        </div>\n",
              "</body>\n",
              "</html>"
            ]
          },
          "metadata": {}
        }
      ]
    },
    {
      "cell_type": "code",
      "source": [
        "X = tf.constant(xs)\n",
        "X = tf.reshape(xs, shape = (1, 200))\n",
        "Y = tf.constant(ys)\n",
        "Y = tf.reshape(Y, shape = (1, 200))"
      ],
      "metadata": {
        "id": "IuiVzlqosICc"
      },
      "execution_count": 168,
      "outputs": []
    },
    {
      "cell_type": "code",
      "source": [
        "@tf.function\n",
        "def loss(y_true, y_pred):\n",
        "  return 0.5 * tf.reduce_mean(tf.square(y_true - y_pred))"
      ],
      "metadata": {
        "id": "v1zEYYPKwBMY"
      },
      "execution_count": 169,
      "outputs": []
    },
    {
      "cell_type": "code",
      "source": [
        "w = np.random.random(size = (Y.shape[0], X.shape[0])) * 0.001\n",
        "bs = np.zeros((1, Y.shape[0]))"
      ],
      "metadata": {
        "id": "x4OGmn40wcAq"
      },
      "execution_count": 170,
      "outputs": []
    },
    {
      "cell_type": "code",
      "source": [
        "W = tf.Variable(initial_value = w, dtype = tf.float64, trainable = True)\n",
        "b = tf.Variable(initial_value = bs, dtype = tf.float64, trainable = True)"
      ],
      "metadata": {
        "id": "63MArCKNxx_a"
      },
      "execution_count": 171,
      "outputs": []
    },
    {
      "cell_type": "code",
      "source": [
        "@tf.function\n",
        "def predict(X):\n",
        "  return tf.matmul(W, X) + b"
      ],
      "metadata": {
        "id": "31Ng2j0ey6dV"
      },
      "execution_count": 172,
      "outputs": []
    },
    {
      "cell_type": "code",
      "source": [
        "optimizer = tf.keras.optimizers.SGD(learning_rate = 0.0001)\n",
        "@tf.function\n",
        "def train():\n",
        "  with tf.GradientTape() as tape:\n",
        "    Yhat = predict(X)\n",
        "    cost = loss(Yhat, Y)\n",
        "  grads = tape.gradient(cost, [W, b])\n",
        "  optimizer.apply_gradients(zip(grads, [W, b]))"
      ],
      "metadata": {
        "id": "udmcL-Vs0CZs"
      },
      "execution_count": 177,
      "outputs": []
    },
    {
      "cell_type": "code",
      "source": [
        "W"
      ],
      "metadata": {
        "colab": {
          "base_uri": "https://localhost:8080/"
        },
        "id": "Z2S7OS_r0euf",
        "outputId": "764f7b2c-f284-4328-cf9e-a42db5f5ac42"
      },
      "execution_count": 174,
      "outputs": [
        {
          "output_type": "execute_result",
          "data": {
            "text/plain": [
              "<tf.Variable 'Variable:0' shape=(1, 1) dtype=float64, numpy=array([[0.00096565]])>"
            ]
          },
          "metadata": {},
          "execution_count": 174
        }
      ]
    },
    {
      "cell_type": "code",
      "source": [
        "train()"
      ],
      "metadata": {
        "colab": {
          "base_uri": "https://localhost:8080/"
        },
        "id": "lJziR4Y_ADVX",
        "outputId": "98c3d8e0-10d2-4baf-ee93-85774e53691f"
      },
      "execution_count": 175,
      "outputs": [
        {
          "output_type": "stream",
          "name": "stdout",
          "text": [
            "[<tf.Tensor 'PartitionedCall_2:1' shape=(1, 1) dtype=float64>, <tf.Tensor 'PartitionedCall_2:2' shape=(1, 1) dtype=float64>]\n",
            "[<tf.Tensor 'PartitionedCall_2:1' shape=(1, 1) dtype=float64>, <tf.Tensor 'PartitionedCall_2:2' shape=(1, 1) dtype=float64>]\n"
          ]
        }
      ]
    },
    {
      "cell_type": "code",
      "source": [
        "W"
      ],
      "metadata": {
        "colab": {
          "base_uri": "https://localhost:8080/"
        },
        "id": "Tbx5UCrxAER3",
        "outputId": "6eae93ac-2c0f-4a54-f66b-abc362a37e30"
      },
      "execution_count": 176,
      "outputs": [
        {
          "output_type": "execute_result",
          "data": {
            "text/plain": [
              "<tf.Variable 'Variable:0' shape=(1, 1) dtype=float64, numpy=array([[0.66733067]])>"
            ]
          },
          "metadata": {},
          "execution_count": 176
        }
      ]
    },
    {
      "cell_type": "code",
      "source": [
        "for epoch in range(1, 10001):\n",
        "  if epoch % 1000 == 0:\n",
        "    print(f'After { epoch }:\\nWeight: { W }\\nBias: { b }\\n\\n')\n",
        "  train()"
      ],
      "metadata": {
        "colab": {
          "base_uri": "https://localhost:8080/"
        },
        "id": "3inuk6ACAFEd",
        "outputId": "9de96f0c-2048-4d18-a549-d3d7ccfdf8c0"
      },
      "execution_count": 184,
      "outputs": [
        {
          "output_type": "stream",
          "name": "stdout",
          "text": [
            "After 1000:\n",
            "Weight: <tf.Variable 'Variable:0' shape=(1, 1) dtype=float64, numpy=array([[1.99981222]])>\n",
            "Bias: <tf.Variable 'Variable:0' shape=(1, 1) dtype=float64, numpy=array([[-0.99067565]])>\n",
            "\n",
            "\n",
            "After 2000:\n",
            "Weight: <tf.Variable 'Variable:0' shape=(1, 1) dtype=float64, numpy=array([[1.99981214]])>\n",
            "Bias: <tf.Variable 'Variable:0' shape=(1, 1) dtype=float64, numpy=array([[-0.99119851]])>\n",
            "\n",
            "\n",
            "After 3000:\n",
            "Weight: <tf.Variable 'Variable:0' shape=(1, 1) dtype=float64, numpy=array([[1.99981207]])>\n",
            "Bias: <tf.Variable 'Variable:0' shape=(1, 1) dtype=float64, numpy=array([[-0.99167161]])>\n",
            "\n",
            "\n",
            "After 4000:\n",
            "Weight: <tf.Variable 'Variable:0' shape=(1, 1) dtype=float64, numpy=array([[1.99981201]])>\n",
            "Bias: <tf.Variable 'Variable:0' shape=(1, 1) dtype=float64, numpy=array([[-0.99209969]])>\n",
            "\n",
            "\n",
            "After 5000:\n",
            "Weight: <tf.Variable 'Variable:0' shape=(1, 1) dtype=float64, numpy=array([[1.99981195]])>\n",
            "Bias: <tf.Variable 'Variable:0' shape=(1, 1) dtype=float64, numpy=array([[-0.99248704]])>\n",
            "\n",
            "\n",
            "After 6000:\n",
            "Weight: <tf.Variable 'Variable:0' shape=(1, 1) dtype=float64, numpy=array([[1.9998119]])>\n",
            "Bias: <tf.Variable 'Variable:0' shape=(1, 1) dtype=float64, numpy=array([[-0.99283752]])>\n",
            "\n",
            "\n",
            "After 7000:\n",
            "Weight: <tf.Variable 'Variable:0' shape=(1, 1) dtype=float64, numpy=array([[1.99981185]])>\n",
            "Bias: <tf.Variable 'Variable:0' shape=(1, 1) dtype=float64, numpy=array([[-0.99315466]])>\n",
            "\n",
            "\n",
            "After 8000:\n",
            "Weight: <tf.Variable 'Variable:0' shape=(1, 1) dtype=float64, numpy=array([[1.9998118]])>\n",
            "Bias: <tf.Variable 'Variable:0' shape=(1, 1) dtype=float64, numpy=array([[-0.99344161]])>\n",
            "\n",
            "\n",
            "After 9000:\n",
            "Weight: <tf.Variable 'Variable:0' shape=(1, 1) dtype=float64, numpy=array([[1.99981177]])>\n",
            "Bias: <tf.Variable 'Variable:0' shape=(1, 1) dtype=float64, numpy=array([[-0.99370126]])>\n",
            "\n",
            "\n",
            "After 10000:\n",
            "Weight: <tf.Variable 'Variable:0' shape=(1, 1) dtype=float64, numpy=array([[1.99981173]])>\n",
            "Bias: <tf.Variable 'Variable:0' shape=(1, 1) dtype=float64, numpy=array([[-0.9939362]])>\n",
            "\n",
            "\n"
          ]
        }
      ]
    },
    {
      "cell_type": "code",
      "source": [
        "W"
      ],
      "metadata": {
        "colab": {
          "base_uri": "https://localhost:8080/"
        },
        "id": "H1RrRpJpAlMm",
        "outputId": "9485d5ac-8014-47b0-bf99-aed5cd869c76"
      },
      "execution_count": 185,
      "outputs": [
        {
          "output_type": "execute_result",
          "data": {
            "text/plain": [
              "<tf.Variable 'Variable:0' shape=(1, 1) dtype=float64, numpy=array([[1.99981173]])>"
            ]
          },
          "metadata": {},
          "execution_count": 185
        }
      ]
    },
    {
      "cell_type": "code",
      "source": [
        "b"
      ],
      "metadata": {
        "colab": {
          "base_uri": "https://localhost:8080/"
        },
        "id": "xyyx8fj9Exg1",
        "outputId": "92d185d9-a022-4a2b-be20-5534b67c1ea8"
      },
      "execution_count": 186,
      "outputs": [
        {
          "output_type": "execute_result",
          "data": {
            "text/plain": [
              "<tf.Variable 'Variable:0' shape=(1, 1) dtype=float64, numpy=array([[-0.99393642]])>"
            ]
          },
          "metadata": {},
          "execution_count": 186
        }
      ]
    },
    {
      "cell_type": "code",
      "source": [
        "yhat = np.squeeze(predict(X).numpy())"
      ],
      "metadata": {
        "id": "xY_CZfM3EyRM"
      },
      "execution_count": 191,
      "outputs": []
    },
    {
      "cell_type": "code",
      "source": [
        "fig1 = px.line(x = xs, y = ys)\n",
        "fig1.update_traces(line = dict(color = \"rgb(100, 2, 2, 0.1)\"))\n",
        "# fig1.show()\n",
        "\n",
        "fig2 = px.scatter(x = xs, y = yhat)\n",
        "\n",
        "fig = go.Figure(data = fig1.data + fig2.data)\n",
        "fig.show()"
      ],
      "metadata": {
        "colab": {
          "base_uri": "https://localhost:8080/",
          "height": 542
        },
        "id": "WbNYNAYqFVy3",
        "outputId": "e09f556a-dfed-407c-a087-b3ae737c4c5a"
      },
      "execution_count": 200,
      "outputs": [
        {
          "output_type": "display_data",
          "data": {
            "text/html": [
              "<html>\n",
              "<head><meta charset=\"utf-8\" /></head>\n",
              "<body>\n",
              "    <div>            <script src=\"https://cdnjs.cloudflare.com/ajax/libs/mathjax/2.7.5/MathJax.js?config=TeX-AMS-MML_SVG\"></script><script type=\"text/javascript\">if (window.MathJax && window.MathJax.Hub && window.MathJax.Hub.Config) {window.MathJax.Hub.Config({SVG: {font: \"STIX-Web\"}});}</script>                <script type=\"text/javascript\">window.PlotlyConfig = {MathJaxConfig: 'local'};</script>\n",
              "        <script charset=\"utf-8\" src=\"https://cdn.plot.ly/plotly-2.24.1.min.js\"></script>                <div id=\"0eb31395-044d-48d5-8355-c65946cd6d97\" class=\"plotly-graph-div\" style=\"height:525px; width:100%;\"></div>            <script type=\"text/javascript\">                                    window.PLOTLYENV=window.PLOTLYENV || {};                                    if (document.getElementById(\"0eb31395-044d-48d5-8355-c65946cd6d97\")) {                    Plotly.newPlot(                        \"0eb31395-044d-48d5-8355-c65946cd6d97\",                        [{\"hovertemplate\":\"x=%{x}\\u003cbr\\u003ey=%{y}\\u003cextra\\u003e\\u003c\\u002fextra\\u003e\",\"legendgroup\":\"\",\"line\":{\"color\":\"rgb(100, 2, 2, 0.1)\",\"dash\":\"solid\"},\"marker\":{\"symbol\":\"circle\"},\"mode\":\"lines\",\"name\":\"\",\"orientation\":\"v\",\"showlegend\":false,\"x\":[-100.0,-99.0,-98.0,-97.0,-96.0,-95.0,-94.0,-93.0,-92.0,-91.0,-90.0,-89.0,-88.0,-87.0,-86.0,-85.0,-84.0,-83.0,-82.0,-81.0,-80.0,-79.0,-78.0,-77.0,-76.0,-75.0,-74.0,-73.0,-72.0,-71.0,-70.0,-69.0,-68.0,-67.0,-66.0,-65.0,-64.0,-63.0,-62.0,-61.0,-60.0,-59.0,-58.0,-57.0,-56.0,-55.0,-54.0,-53.0,-52.0,-51.0,-50.0,-49.0,-48.0,-47.0,-46.0,-45.0,-44.0,-43.0,-42.0,-41.0,-40.0,-39.0,-38.0,-37.0,-36.0,-35.0,-34.0,-33.0,-32.0,-31.0,-30.0,-29.0,-28.0,-27.0,-26.0,-25.0,-24.0,-23.0,-22.0,-21.0,-20.0,-19.0,-18.0,-17.0,-16.0,-15.0,-14.0,-13.0,-12.0,-11.0,-10.0,-9.0,-8.0,-7.0,-6.0,-5.0,-4.0,-3.0,-2.0,-1.0,0.0,1.0,2.0,3.0,4.0,5.0,6.0,7.0,8.0,9.0,10.0,11.0,12.0,13.0,14.0,15.0,16.0,17.0,18.0,19.0,20.0,21.0,22.0,23.0,24.0,25.0,26.0,27.0,28.0,29.0,30.0,31.0,32.0,33.0,34.0,35.0,36.0,37.0,38.0,39.0,40.0,41.0,42.0,43.0,44.0,45.0,46.0,47.0,48.0,49.0,50.0,51.0,52.0,53.0,54.0,55.0,56.0,57.0,58.0,59.0,60.0,61.0,62.0,63.0,64.0,65.0,66.0,67.0,68.0,69.0,70.0,71.0,72.0,73.0,74.0,75.0,76.0,77.0,78.0,79.0,80.0,81.0,82.0,83.0,84.0,85.0,86.0,87.0,88.0,89.0,90.0,91.0,92.0,93.0,94.0,95.0,96.0,97.0,98.0,99.0],\"xaxis\":\"x\",\"y\":[-200.7966385945226,-199.05268597075607,-196.87141459660677,-194.9098521792305,-192.85480231646602,-191.11472406241816,-189.04130432512565,-187.07510923943744,-185.05342485606985,-182.9102150989008,-180.94825565308957,-178.9118814609597,-177.0837863978651,-175.0530407877623,-172.86037615203367,-170.996037597038,-169.06962305750716,-167.0708551461047,-164.9523189468573,-162.8710349790349,-160.90570155410114,-159.04269858046496,-157.12418761948337,-154.90833384972564,-153.12277406684439,-151.04001399095765,-148.89943657972825,-146.99075572483383,-144.92819800922064,-143.02830104528823,-140.89002500369958,-139.06171522854206,-136.96108623266218,-134.97214340054745,-132.82222954359932,-130.77607166221003,-128.9855376995197,-126.90457800772339,-125.01944272374699,-123.04578678030619,-121.09131772168448,-118.92374113288807,-116.83662360891594,-115.06194685850893,-113.10052236664419,-110.97254662752812,-108.93113763241041,-107.173593914695,-105.05832293258587,-103.07980936377227,-100.8082047010056,-98.87917436172144,-96.94170837045617,-95.12336022620866,-93.07992655899184,-90.99980212785165,-89.02363994485617,-86.86110502581056,-85.03861131564997,-83.03570574236451,-80.9419330724499,-78.96744249983162,-76.99027506251143,-75.09451803318548,-73.17698334315595,-70.97973911541955,-69.18080663437162,-67.02867452545378,-64.92481063928449,-62.98340574383352,-61.042551176265114,-58.90451318527116,-57.09309036179711,-55.09209570795446,-52.9345939174077,-51.02813856308906,-48.82538484451362,-46.898965110819546,-45.15565466834913,-43.1561534287027,-40.989629574665244,-39.03820304465816,-37.02595364585118,-34.87502040032747,-32.9332813239398,-30.90071995198992,-28.869195403852643,-26.963641258008078,-24.97371938124569,-23.132599128052256,-20.97267748090586,-18.876206874704902,-16.90099014781318,-15.059138048807439,-12.98446770429646,-10.983331367424068,-8.870070533359737,-6.927880509955654,-4.895917550494228,-3.0485889751669215,-1.0312249204488717,1.0053133832345622,2.902431134251212,4.941042560738135,6.999948747163501,8.951141802604901,10.871108062081147,12.920453931437166,15.00309514022,16.84953824389295,18.936936925019985,21.064793104063366,23.116261199764683,24.9966246180736,27.09321745748084,29.106195448633,31.058066395982824,32.97585772160976,35.0722798173691,36.92013887260795,39.166182583881785,41.07790026443471,42.955371321900735,45.07747894423881,47.04174346727044,48.9021236321884,50.90001978850179,52.98603654525391,55.026876243375895,57.07641768866332,59.00854092711604,61.16879643649282,62.80589830843921,64.91185132030644,66.89900926333134,68.99573779418496,70.95842593944,72.9705931068389,75.174797645484,77.0907233364265,78.97646437361448,81.11766628741736,83.06215317991939,84.95330953883497,86.74367714243907,88.9843006401527,90.95692084217119,93.07346557237985,94.97756268405506,97.06959157172273,99.00384537146822,101.25087108534986,102.8131362402355,105.00794546927723,107.10589438832376,108.9757602633518,111.01807707886717,113.03957294677724,114.96112521540185,116.91796344630255,118.98343541101225,121.1180933231267,122.99240352531193,125.03013420811415,126.91846442352318,128.79444552263055,130.94967682682733,133.12125779041253,135.0913279080954,136.86415050039707,139.02328743850813,140.88116506138948,142.85718913095056,145.1083047234282,147.1799460050615,149.02627880013557,151.01495309590487,153.03747673229475,154.9053768046922,157.08251676010764,159.00176570253396,160.994082422817,162.7484284501297,165.1755762284988,167.05669291973,169.01189950958008,171.01460794656387,172.97352035222107,174.93870037958237,176.8910003499451,179.00205390772956,180.8970526518887,182.88287623992122,185.09190935932634,186.8258304693094,189.07539165312048,190.84523465504506,192.94455172865958,194.99222084504504,197.05266474855983],\"yaxis\":\"y\",\"type\":\"scatter\"},{\"hovertemplate\":\"x=%{x}\\u003cbr\\u003ey=%{y}\\u003cextra\\u003e\\u003c\\u002fextra\\u003e\",\"legendgroup\":\"\",\"marker\":{\"color\":\"#636efa\",\"symbol\":\"circle\"},\"mode\":\"markers\",\"name\":\"\",\"orientation\":\"v\",\"showlegend\":false,\"x\":[-100.0,-99.0,-98.0,-97.0,-96.0,-95.0,-94.0,-93.0,-92.0,-91.0,-90.0,-89.0,-88.0,-87.0,-86.0,-85.0,-84.0,-83.0,-82.0,-81.0,-80.0,-79.0,-78.0,-77.0,-76.0,-75.0,-74.0,-73.0,-72.0,-71.0,-70.0,-69.0,-68.0,-67.0,-66.0,-65.0,-64.0,-63.0,-62.0,-61.0,-60.0,-59.0,-58.0,-57.0,-56.0,-55.0,-54.0,-53.0,-52.0,-51.0,-50.0,-49.0,-48.0,-47.0,-46.0,-45.0,-44.0,-43.0,-42.0,-41.0,-40.0,-39.0,-38.0,-37.0,-36.0,-35.0,-34.0,-33.0,-32.0,-31.0,-30.0,-29.0,-28.0,-27.0,-26.0,-25.0,-24.0,-23.0,-22.0,-21.0,-20.0,-19.0,-18.0,-17.0,-16.0,-15.0,-14.0,-13.0,-12.0,-11.0,-10.0,-9.0,-8.0,-7.0,-6.0,-5.0,-4.0,-3.0,-2.0,-1.0,0.0,1.0,2.0,3.0,4.0,5.0,6.0,7.0,8.0,9.0,10.0,11.0,12.0,13.0,14.0,15.0,16.0,17.0,18.0,19.0,20.0,21.0,22.0,23.0,24.0,25.0,26.0,27.0,28.0,29.0,30.0,31.0,32.0,33.0,34.0,35.0,36.0,37.0,38.0,39.0,40.0,41.0,42.0,43.0,44.0,45.0,46.0,47.0,48.0,49.0,50.0,51.0,52.0,53.0,54.0,55.0,56.0,57.0,58.0,59.0,60.0,61.0,62.0,63.0,64.0,65.0,66.0,67.0,68.0,69.0,70.0,71.0,72.0,73.0,74.0,75.0,76.0,77.0,78.0,79.0,80.0,81.0,82.0,83.0,84.0,85.0,86.0,87.0,88.0,89.0,90.0,91.0,92.0,93.0,94.0,95.0,96.0,97.0,98.0,99.0],\"xaxis\":\"x\",\"y\":[-200.9751094693401,-198.9752977388962,-196.97548600845226,-194.9756742780083,-192.9758625475644,-190.97605081712047,-188.97623908667651,-186.9764273562326,-184.97661562578867,-182.97680389534472,-180.9769921649008,-178.97718043445687,-176.97736870401292,-174.977556973569,-172.97774524312507,-170.97793351268112,-168.9781217822372,-166.97831005179327,-164.97849832134932,-162.9786865909054,-160.97887486046147,-158.97906313001752,-156.9792513995736,-154.97943966912965,-152.97962793868572,-150.9798162082418,-148.98000447779785,-146.98019274735393,-144.98038101691,-142.98056928646605,-140.98075755602213,-138.9809458255782,-136.98113409513425,-134.98132236469033,-132.9815106342464,-130.98169890380245,-128.98188717335853,-126.98207544291459,-124.98226371247067,-122.98245198202673,-120.9826402515828,-118.98282852113887,-116.98301679069493,-114.983205060251,-112.98339332980706,-110.98358159936313,-108.9837698689192,-106.98395813847526,-104.98414640803134,-102.9843346775874,-100.98452294714346,-98.98471121669954,-96.9848994862556,-94.98508775581166,-92.98527602536774,-90.9854642949238,-88.98565256447986,-86.98584083403594,-84.986029103592,-82.98621737314807,-80.98640564270414,-78.9865939122602,-76.98678218181627,-74.98697045137233,-72.9871587209284,-70.98734699048447,-68.98753526004053,-66.98772352959661,-64.98791179915267,-62.98810006870874,-60.9882883382648,-58.98847660782087,-56.988664877376934,-54.988853146933,-52.98904141648907,-50.989229686045135,-48.989417955601205,-46.989606225157274,-44.98979449471334,-42.989982764269406,-40.990171033825476,-38.99035930338154,-36.99054757293761,-34.99073584249367,-32.99092411204974,-30.991112381605806,-28.991300651161872,-26.99148892071794,-24.991677190274007,-22.991865459830073,-20.992053729386143,-18.99224199894221,-16.992430268498275,-14.99261853805434,-12.992806807610409,-10.992995077166476,-8.993183346722542,-6.99337161627861,-4.993559885834677,-2.993748155390744,-0.9939364249468106,1.0058753054971226,3.0056870359410555,5.005498766384989,7.005310496828922,9.005122227272857,11.004933957716789,13.004745688160721,15.004557418604655,17.00436914904859,19.004180879492523,21.003992609936454,23.003804340380388,25.00361607082432,27.003427801268252,29.003239531712186,31.00305126215612,33.00286299260005,35.00267472304399,37.00248645348792,39.002298183931856,41.00210991437579,43.00192164481972,45.001733375263655,47.001545105707585,49.001356836151515,51.00116856659545,53.00098029703938,55.000792027483314,57.00060375792725,59.00041548837118,61.00022721881512,63.00003894925905,64.99985067970299,66.99966241014691,68.99947414059085,70.99928587103479,72.99909760147871,74.99890933192265,76.99872106236658,78.99853279281052,80.99834452325445,82.99815625369838,84.99796798414232,86.99777971458624,88.99759144503018,90.99740317547412,92.99721490591804,94.99702663636198,96.99683836680592,98.99665009724984,100.99646182769378,102.99627355813772,104.99608528858164,106.99589701902558,108.99570874946951,110.99552047991344,112.99533221035738,114.99514394080131,116.99495567124525,118.99476740168917,120.99457913213311,122.99439086257705,124.99420259302097,126.99401432346491,128.99382605390883,130.99363778435279,132.9934495147967,134.99326124524063,136.99307297568458,138.9928847061285,140.99269643657243,142.99250816701638,144.9923198974603,146.99213162790423,148.99194335834818,150.9917550887921,152.99156681923603,154.99137854967998,156.9911902801239,158.99100201056785,160.99081374101178,162.9906254714557,164.99043720189965,166.99024893234358,168.9900606627875,170.98987239323145,172.98968412367537,174.9894958541193,176.98930758456325,178.98911931500717,180.9889310454511,182.98874277589505,184.98855450633897,186.9883662367829,188.98817796722685,190.98798969767077,192.9878014281147,194.98761315855864,196.98742488900257],\"yaxis\":\"y\",\"type\":\"scatter\"}],                        {\"template\":{\"data\":{\"histogram2dcontour\":[{\"type\":\"histogram2dcontour\",\"colorbar\":{\"outlinewidth\":0,\"ticks\":\"\"},\"colorscale\":[[0.0,\"#0d0887\"],[0.1111111111111111,\"#46039f\"],[0.2222222222222222,\"#7201a8\"],[0.3333333333333333,\"#9c179e\"],[0.4444444444444444,\"#bd3786\"],[0.5555555555555556,\"#d8576b\"],[0.6666666666666666,\"#ed7953\"],[0.7777777777777778,\"#fb9f3a\"],[0.8888888888888888,\"#fdca26\"],[1.0,\"#f0f921\"]]}],\"choropleth\":[{\"type\":\"choropleth\",\"colorbar\":{\"outlinewidth\":0,\"ticks\":\"\"}}],\"histogram2d\":[{\"type\":\"histogram2d\",\"colorbar\":{\"outlinewidth\":0,\"ticks\":\"\"},\"colorscale\":[[0.0,\"#0d0887\"],[0.1111111111111111,\"#46039f\"],[0.2222222222222222,\"#7201a8\"],[0.3333333333333333,\"#9c179e\"],[0.4444444444444444,\"#bd3786\"],[0.5555555555555556,\"#d8576b\"],[0.6666666666666666,\"#ed7953\"],[0.7777777777777778,\"#fb9f3a\"],[0.8888888888888888,\"#fdca26\"],[1.0,\"#f0f921\"]]}],\"heatmap\":[{\"type\":\"heatmap\",\"colorbar\":{\"outlinewidth\":0,\"ticks\":\"\"},\"colorscale\":[[0.0,\"#0d0887\"],[0.1111111111111111,\"#46039f\"],[0.2222222222222222,\"#7201a8\"],[0.3333333333333333,\"#9c179e\"],[0.4444444444444444,\"#bd3786\"],[0.5555555555555556,\"#d8576b\"],[0.6666666666666666,\"#ed7953\"],[0.7777777777777778,\"#fb9f3a\"],[0.8888888888888888,\"#fdca26\"],[1.0,\"#f0f921\"]]}],\"heatmapgl\":[{\"type\":\"heatmapgl\",\"colorbar\":{\"outlinewidth\":0,\"ticks\":\"\"},\"colorscale\":[[0.0,\"#0d0887\"],[0.1111111111111111,\"#46039f\"],[0.2222222222222222,\"#7201a8\"],[0.3333333333333333,\"#9c179e\"],[0.4444444444444444,\"#bd3786\"],[0.5555555555555556,\"#d8576b\"],[0.6666666666666666,\"#ed7953\"],[0.7777777777777778,\"#fb9f3a\"],[0.8888888888888888,\"#fdca26\"],[1.0,\"#f0f921\"]]}],\"contourcarpet\":[{\"type\":\"contourcarpet\",\"colorbar\":{\"outlinewidth\":0,\"ticks\":\"\"}}],\"contour\":[{\"type\":\"contour\",\"colorbar\":{\"outlinewidth\":0,\"ticks\":\"\"},\"colorscale\":[[0.0,\"#0d0887\"],[0.1111111111111111,\"#46039f\"],[0.2222222222222222,\"#7201a8\"],[0.3333333333333333,\"#9c179e\"],[0.4444444444444444,\"#bd3786\"],[0.5555555555555556,\"#d8576b\"],[0.6666666666666666,\"#ed7953\"],[0.7777777777777778,\"#fb9f3a\"],[0.8888888888888888,\"#fdca26\"],[1.0,\"#f0f921\"]]}],\"surface\":[{\"type\":\"surface\",\"colorbar\":{\"outlinewidth\":0,\"ticks\":\"\"},\"colorscale\":[[0.0,\"#0d0887\"],[0.1111111111111111,\"#46039f\"],[0.2222222222222222,\"#7201a8\"],[0.3333333333333333,\"#9c179e\"],[0.4444444444444444,\"#bd3786\"],[0.5555555555555556,\"#d8576b\"],[0.6666666666666666,\"#ed7953\"],[0.7777777777777778,\"#fb9f3a\"],[0.8888888888888888,\"#fdca26\"],[1.0,\"#f0f921\"]]}],\"mesh3d\":[{\"type\":\"mesh3d\",\"colorbar\":{\"outlinewidth\":0,\"ticks\":\"\"}}],\"scatter\":[{\"fillpattern\":{\"fillmode\":\"overlay\",\"size\":10,\"solidity\":0.2},\"type\":\"scatter\"}],\"parcoords\":[{\"type\":\"parcoords\",\"line\":{\"colorbar\":{\"outlinewidth\":0,\"ticks\":\"\"}}}],\"scatterpolargl\":[{\"type\":\"scatterpolargl\",\"marker\":{\"colorbar\":{\"outlinewidth\":0,\"ticks\":\"\"}}}],\"bar\":[{\"error_x\":{\"color\":\"#2a3f5f\"},\"error_y\":{\"color\":\"#2a3f5f\"},\"marker\":{\"line\":{\"color\":\"#E5ECF6\",\"width\":0.5},\"pattern\":{\"fillmode\":\"overlay\",\"size\":10,\"solidity\":0.2}},\"type\":\"bar\"}],\"scattergeo\":[{\"type\":\"scattergeo\",\"marker\":{\"colorbar\":{\"outlinewidth\":0,\"ticks\":\"\"}}}],\"scatterpolar\":[{\"type\":\"scatterpolar\",\"marker\":{\"colorbar\":{\"outlinewidth\":0,\"ticks\":\"\"}}}],\"histogram\":[{\"marker\":{\"pattern\":{\"fillmode\":\"overlay\",\"size\":10,\"solidity\":0.2}},\"type\":\"histogram\"}],\"scattergl\":[{\"type\":\"scattergl\",\"marker\":{\"colorbar\":{\"outlinewidth\":0,\"ticks\":\"\"}}}],\"scatter3d\":[{\"type\":\"scatter3d\",\"line\":{\"colorbar\":{\"outlinewidth\":0,\"ticks\":\"\"}},\"marker\":{\"colorbar\":{\"outlinewidth\":0,\"ticks\":\"\"}}}],\"scattermapbox\":[{\"type\":\"scattermapbox\",\"marker\":{\"colorbar\":{\"outlinewidth\":0,\"ticks\":\"\"}}}],\"scatterternary\":[{\"type\":\"scatterternary\",\"marker\":{\"colorbar\":{\"outlinewidth\":0,\"ticks\":\"\"}}}],\"scattercarpet\":[{\"type\":\"scattercarpet\",\"marker\":{\"colorbar\":{\"outlinewidth\":0,\"ticks\":\"\"}}}],\"carpet\":[{\"aaxis\":{\"endlinecolor\":\"#2a3f5f\",\"gridcolor\":\"white\",\"linecolor\":\"white\",\"minorgridcolor\":\"white\",\"startlinecolor\":\"#2a3f5f\"},\"baxis\":{\"endlinecolor\":\"#2a3f5f\",\"gridcolor\":\"white\",\"linecolor\":\"white\",\"minorgridcolor\":\"white\",\"startlinecolor\":\"#2a3f5f\"},\"type\":\"carpet\"}],\"table\":[{\"cells\":{\"fill\":{\"color\":\"#EBF0F8\"},\"line\":{\"color\":\"white\"}},\"header\":{\"fill\":{\"color\":\"#C8D4E3\"},\"line\":{\"color\":\"white\"}},\"type\":\"table\"}],\"barpolar\":[{\"marker\":{\"line\":{\"color\":\"#E5ECF6\",\"width\":0.5},\"pattern\":{\"fillmode\":\"overlay\",\"size\":10,\"solidity\":0.2}},\"type\":\"barpolar\"}],\"pie\":[{\"automargin\":true,\"type\":\"pie\"}]},\"layout\":{\"autotypenumbers\":\"strict\",\"colorway\":[\"#636efa\",\"#EF553B\",\"#00cc96\",\"#ab63fa\",\"#FFA15A\",\"#19d3f3\",\"#FF6692\",\"#B6E880\",\"#FF97FF\",\"#FECB52\"],\"font\":{\"color\":\"#2a3f5f\"},\"hovermode\":\"closest\",\"hoverlabel\":{\"align\":\"left\"},\"paper_bgcolor\":\"white\",\"plot_bgcolor\":\"#E5ECF6\",\"polar\":{\"bgcolor\":\"#E5ECF6\",\"angularaxis\":{\"gridcolor\":\"white\",\"linecolor\":\"white\",\"ticks\":\"\"},\"radialaxis\":{\"gridcolor\":\"white\",\"linecolor\":\"white\",\"ticks\":\"\"}},\"ternary\":{\"bgcolor\":\"#E5ECF6\",\"aaxis\":{\"gridcolor\":\"white\",\"linecolor\":\"white\",\"ticks\":\"\"},\"baxis\":{\"gridcolor\":\"white\",\"linecolor\":\"white\",\"ticks\":\"\"},\"caxis\":{\"gridcolor\":\"white\",\"linecolor\":\"white\",\"ticks\":\"\"}},\"coloraxis\":{\"colorbar\":{\"outlinewidth\":0,\"ticks\":\"\"}},\"colorscale\":{\"sequential\":[[0.0,\"#0d0887\"],[0.1111111111111111,\"#46039f\"],[0.2222222222222222,\"#7201a8\"],[0.3333333333333333,\"#9c179e\"],[0.4444444444444444,\"#bd3786\"],[0.5555555555555556,\"#d8576b\"],[0.6666666666666666,\"#ed7953\"],[0.7777777777777778,\"#fb9f3a\"],[0.8888888888888888,\"#fdca26\"],[1.0,\"#f0f921\"]],\"sequentialminus\":[[0.0,\"#0d0887\"],[0.1111111111111111,\"#46039f\"],[0.2222222222222222,\"#7201a8\"],[0.3333333333333333,\"#9c179e\"],[0.4444444444444444,\"#bd3786\"],[0.5555555555555556,\"#d8576b\"],[0.6666666666666666,\"#ed7953\"],[0.7777777777777778,\"#fb9f3a\"],[0.8888888888888888,\"#fdca26\"],[1.0,\"#f0f921\"]],\"diverging\":[[0,\"#8e0152\"],[0.1,\"#c51b7d\"],[0.2,\"#de77ae\"],[0.3,\"#f1b6da\"],[0.4,\"#fde0ef\"],[0.5,\"#f7f7f7\"],[0.6,\"#e6f5d0\"],[0.7,\"#b8e186\"],[0.8,\"#7fbc41\"],[0.9,\"#4d9221\"],[1,\"#276419\"]]},\"xaxis\":{\"gridcolor\":\"white\",\"linecolor\":\"white\",\"ticks\":\"\",\"title\":{\"standoff\":15},\"zerolinecolor\":\"white\",\"automargin\":true,\"zerolinewidth\":2},\"yaxis\":{\"gridcolor\":\"white\",\"linecolor\":\"white\",\"ticks\":\"\",\"title\":{\"standoff\":15},\"zerolinecolor\":\"white\",\"automargin\":true,\"zerolinewidth\":2},\"scene\":{\"xaxis\":{\"backgroundcolor\":\"#E5ECF6\",\"gridcolor\":\"white\",\"linecolor\":\"white\",\"showbackground\":true,\"ticks\":\"\",\"zerolinecolor\":\"white\",\"gridwidth\":2},\"yaxis\":{\"backgroundcolor\":\"#E5ECF6\",\"gridcolor\":\"white\",\"linecolor\":\"white\",\"showbackground\":true,\"ticks\":\"\",\"zerolinecolor\":\"white\",\"gridwidth\":2},\"zaxis\":{\"backgroundcolor\":\"#E5ECF6\",\"gridcolor\":\"white\",\"linecolor\":\"white\",\"showbackground\":true,\"ticks\":\"\",\"zerolinecolor\":\"white\",\"gridwidth\":2}},\"shapedefaults\":{\"line\":{\"color\":\"#2a3f5f\"}},\"annotationdefaults\":{\"arrowcolor\":\"#2a3f5f\",\"arrowhead\":0,\"arrowwidth\":1},\"geo\":{\"bgcolor\":\"white\",\"landcolor\":\"#E5ECF6\",\"subunitcolor\":\"white\",\"showland\":true,\"showlakes\":true,\"lakecolor\":\"white\"},\"title\":{\"x\":0.05},\"mapbox\":{\"style\":\"light\"}}}},                        {\"responsive\": true}                    ).then(function(){\n",
              "                            \n",
              "var gd = document.getElementById('0eb31395-044d-48d5-8355-c65946cd6d97');\n",
              "var x = new MutationObserver(function (mutations, observer) {{\n",
              "        var display = window.getComputedStyle(gd).display;\n",
              "        if (!display || display === 'none') {{\n",
              "            console.log([gd, 'removed!']);\n",
              "            Plotly.purge(gd);\n",
              "            observer.disconnect();\n",
              "        }}\n",
              "}});\n",
              "\n",
              "// Listen for the removal of the full notebook cells\n",
              "var notebookContainer = gd.closest('#notebook-container');\n",
              "if (notebookContainer) {{\n",
              "    x.observe(notebookContainer, {childList: true});\n",
              "}}\n",
              "\n",
              "// Listen for the clearing of the current output cell\n",
              "var outputEl = gd.closest('.output');\n",
              "if (outputEl) {{\n",
              "    x.observe(outputEl, {childList: true});\n",
              "}}\n",
              "\n",
              "                        })                };                            </script>        </div>\n",
              "</body>\n",
              "</html>"
            ]
          },
          "metadata": {}
        }
      ]
    },
    {
      "cell_type": "code",
      "source": [],
      "metadata": {
        "id": "Rut7r80jFhsY"
      },
      "execution_count": null,
      "outputs": []
    }
  ]
}